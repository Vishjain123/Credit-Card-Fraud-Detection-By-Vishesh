{
 "cells": [
  {
   "cell_type": "markdown",
   "metadata": {},
   "source": [
    "##### Now we train the model using train set and test it with the test set. Now , I will process the data with several classification algorithms. The models will be judged based on the following properties :\n",
    "1. Accuracy  = Number of correct predictions / Total number of predictions.    \n",
    "As our data set is highly imbalanced , accuracy cannot be a perfect measure to measure the performance of the model.  \n",
    "\n",
    "2. Precision = Number of correct predictions in a class(Normal/Fraud) / Number of predicted labels in that class.  \n",
    "That implies , Precision = True Positives / (True Positives + False Positives)   \n",
    "\n",
    "3. Recall    = Number of correct predictions in a class(Normal/Fraud) / Number of actual labels in that class.   \n",
    "That implies , Recall = True Positives / (True Positives + False Negatives)     \n",
    "    \n",
    "   Now , we develop a Precision-Recall trade off. So we use the F1 score , which strikes a balance between Precision and Recall.   \n",
    "\n",
    "4. F1 Score  = Harmonic mean of precision and recall.   \n",
    "That implies , F1 Score = True Positives / (True Positives + 1/2(False postives + False Negatives))  \n",
    "\n",
    "   And we have two averaging techniques , macro avg(unweighted average) and weighted avg . We prefer macro avg as our dataset is imbalanced."
   ]
  },
  {
   "cell_type": "code",
   "execution_count": 1,
   "metadata": {},
   "outputs": [
    {
     "name": "stdout",
     "output_type": "stream",
     "text": [
      "All imports done.\n"
     ]
    }
   ],
   "source": [
    "import numpy as np\n",
    "import pandas as pd\n",
    "from matplotlib import pyplot as plt\n",
    "import seaborn as sns \n",
    "import time\n",
    "from sklearn.linear_model import LogisticRegression\n",
    "from sklearn.tree import DecisionTreeClassifier\n",
    "from xgboost import XGBClassifier\n",
    "from sklearn.metrics import accuracy_score , f1_score , precision_score , recall_score , confusion_matrix , precision_recall_curve\n",
    "print('All imports done.')"
   ]
  },
  {
   "cell_type": "code",
   "execution_count": 2,
   "metadata": {},
   "outputs": [],
   "source": [
    "X_train = pd.read_csv(\"C:/Users/HP/Downloads/Github/CREDIT-CARD-FRAUD-DETECTION/X_train.csv\").to_numpy()\n",
    "Y_train = pd.read_csv(\"C:/Users/HP/Downloads/Github/CREDIT-CARD-FRAUD-DETECTION/Y_train.csv\").to_numpy().ravel()\n",
    "X_test = pd.read_csv(\"C:/Users/HP/Downloads/Github/CREDIT-CARD-FRAUD-DETECTION/X_test.csv\").to_numpy()  \n",
    "Y_test = pd.read_csv(\"C:/Users/HP/Downloads/Github/CREDIT-CARD-FRAUD-DETECTION/Y_test.csv\").to_numpy().ravel()"
   ]
  },
  {
   "cell_type": "code",
   "execution_count": 3,
   "metadata": {},
   "outputs": [
    {
     "data": {
      "text/plain": [
       "[[(220530, 29), (220530,)], [(55133, 29), (55133,)]]"
      ]
     },
     "execution_count": 3,
     "metadata": {},
     "output_type": "execute_result"
    }
   ],
   "source": [
    "[[ X_train.shape , Y_train.shape ],[ X_test.shape , Y_test.shape ]]"
   ]
  },
  {
   "cell_type": "code",
   "execution_count": 4,
   "id": "9db1adef",
   "metadata": {},
   "outputs": [],
   "source": [
    "def f1_plot(X_axis,Y_axis):\n",
    "    df.plot.bar(x= X_axis, y= Y_axis, alpha= 0.5, color= 'saddlebrown',\n",
    "        title= \"F1 Score of the models on Test data\", legend= False, figsize= [12,6], rot= 0, grid= True, ylim= [0,1])\n",
    "    plt.ylabel(\"F1 Score\")\n",
    "    plt.show()"
   ]
  },
  {
   "cell_type": "code",
   "execution_count": 5,
   "id": "fd1078b2",
   "metadata": {},
   "outputs": [],
   "source": [
    "def confusion_matrix_plot(matrix):\n",
    "    fig, axn = plt.subplots(nrows= 1 , ncols= 3 ,figsize= (18,5))\n",
    "    l = ['Normal' , 'Fraud']\n",
    "\n",
    "    for i, ax in enumerate(axn.flat):\n",
    "        k = list(df['Model Name'])[i]\n",
    "        sns.heatmap(matrix[k] , ax=ax , cmap=\"vlag\" , annot=True , annot_kws= {'size':20} , fmt= 'd' ,\n",
    "                    linewidths= .5 , xticklabels = l , yticklabels=l)\n",
    "        ax.set_title(k,fontsize=15)\n",
    "\n",
    "    fig.text(0.46, 0.046 , 'Predicted Label' , fontsize= 'xx-large')\n",
    "    fig.text(0.09, 0.44 , 'Actual Label' , rotation= 'vertical' , fontsize= 'xx-large')"
   ]
  },
  {
   "cell_type": "code",
   "execution_count": 6,
   "id": "24c94db3",
   "metadata": {},
   "outputs": [],
   "source": [
    "def prediction_maker(Y_hat,Y_test):\n",
    "    precision, recall, thresholds = precision_recall_curve(Y_test, Y_hat)\n",
    "    fscore = (2 * precision * recall) / (precision + recall)\n",
    "    ix = np.argmax(fscore) \n",
    "\n",
    "    Y_pred_new = []\n",
    "    for i in range(len(Y_hat)) : \n",
    "        if Y_hat[i] < thresholds[ix] :\n",
    "            Y_pred_new.append(0)\n",
    "        else :  \n",
    "            Y_pred_new.append(1) \n",
    "\n",
    "    return Y_pred_new , thresholds[ix]"
   ]
  },
  {
   "cell_type": "markdown",
   "id": "dddd22d5",
   "metadata": {},
   "source": [
    "# Training the model with Classification algorithms and Analysing the results."
   ]
  },
  {
   "cell_type": "code",
   "execution_count": 7,
   "id": "c662d8c0",
   "metadata": {},
   "outputs": [],
   "source": [
    "classifiers = {\n",
    "    'Logistic' : \n",
    "        LogisticRegression(solver= 'liblinear' , max_iter= 1000 , random_state= 4) ,\n",
    "    'Decision Trees' : \n",
    "        DecisionTreeClassifier(criterion= 'gini' , random_state= 4) ,\n",
    "    'XG Boost' : \n",
    "        XGBClassifier() ,\n",
    "}\n",
    "\n",
    "cf_matrix = dict.fromkeys(classifiers.keys())\n",
    "cf_matrix_new = dict.fromkeys(classifiers.keys())"
   ]
  },
  {
   "cell_type": "code",
   "execution_count": 8,
   "id": "8e2a8238",
   "metadata": {},
   "outputs": [],
   "source": [
    "table = {\n",
    "    'Model Name' : [] ,\n",
    "    'Run Time(in secs)' : [] ,\n",
    "    'Threshold' : [] ,\n",
    "    'Test set Accuracy' : [] ,\n",
    "    'New Accuracy' : [] ,\n",
    "    'Test set Precision' : [] ,\n",
    "    'New Precision' : [] ,\n",
    "    'Test set Recall' : [] ,\n",
    "    'New Recall' : [] ,\n",
    "    'Test set F1 Score' : [] ,\n",
    "    'New F1 Score' : []\n",
    "}"
   ]
  },
  {
   "cell_type": "code",
   "execution_count": 9,
   "id": "c73e3b66",
   "metadata": {},
   "outputs": [],
   "source": [
    "for name , clf in classifiers.items() :\n",
    "    a = time.time()\n",
    "    clf.fit(X_train,Y_train)\n",
    "    Y_pred = clf.predict(X_test)\n",
    "    b = time.time()\n",
    "\n",
    "    Y_hat = clf.predict_proba(X_test)[:,1]\n",
    "    Y_pred_new , threshold = prediction_maker(Y_hat , Y_test)\n",
    "\n",
    "    table['Model Name'].append(name)\n",
    "    table['Run Time(in secs)'].append(b-a)\n",
    "    table['Test set Accuracy'].append(accuracy_score(Y_test , Y_pred))\n",
    "    table['Test set Precision'].append(precision_score(Y_test , Y_pred , average= 'macro'))\n",
    "    table['Test set Recall'].append(recall_score(Y_test , Y_pred , average= 'macro'))\n",
    "    table['Test set F1 Score'].append(f1_score(Y_test , Y_pred , average= 'macro'))\n",
    "    table['Threshold'].append(threshold)\n",
    "    table['New Accuracy'].append(accuracy_score(Y_test , Y_pred_new))\n",
    "    table['New Precision'].append(precision_score(Y_test , Y_pred_new , average= 'macro'))\n",
    "    table['New Recall'].append(recall_score(Y_test , Y_pred_new , average= 'macro'))\n",
    "    table['New F1 Score'].append(f1_score(Y_test , Y_pred_new , average= 'macro'))\n",
    "\n",
    "    cf_matrix[name] = confusion_matrix(Y_test,Y_pred) \n",
    "    cf_matrix_new[name] = confusion_matrix(Y_test,Y_pred_new) "
   ]
  },
  {
   "cell_type": "code",
   "execution_count": 10,
   "id": "d9b8a472",
   "metadata": {},
   "outputs": [
    {
     "data": {
      "text/html": [
       "<div>\n",
       "<style scoped>\n",
       "    .dataframe tbody tr th:only-of-type {\n",
       "        vertical-align: middle;\n",
       "    }\n",
       "\n",
       "    .dataframe tbody tr th {\n",
       "        vertical-align: top;\n",
       "    }\n",
       "\n",
       "    .dataframe thead th {\n",
       "        text-align: right;\n",
       "    }\n",
       "</style>\n",
       "<table border=\"1\" class=\"dataframe\">\n",
       "  <thead>\n",
       "    <tr style=\"text-align: right;\">\n",
       "      <th></th>\n",
       "      <th>Model Name</th>\n",
       "      <th>Run Time(in secs)</th>\n",
       "      <th>Test set Accuracy</th>\n",
       "      <th>Test set Precision</th>\n",
       "      <th>Test set Recall</th>\n",
       "      <th>Test set F1 Score</th>\n",
       "    </tr>\n",
       "  </thead>\n",
       "  <tbody>\n",
       "    <tr>\n",
       "      <th>0</th>\n",
       "      <td>XG Boost</td>\n",
       "      <td>27.679064</td>\n",
       "      <td>0.999692</td>\n",
       "      <td>0.99291</td>\n",
       "      <td>0.908037</td>\n",
       "      <td>0.946464</td>\n",
       "    </tr>\n",
       "    <tr>\n",
       "      <th>1</th>\n",
       "      <td>Decision Trees</td>\n",
       "      <td>13.175850</td>\n",
       "      <td>0.999293</td>\n",
       "      <td>0.88317</td>\n",
       "      <td>0.896361</td>\n",
       "      <td>0.889653</td>\n",
       "    </tr>\n",
       "    <tr>\n",
       "      <th>2</th>\n",
       "      <td>Logistic</td>\n",
       "      <td>1.937794</td>\n",
       "      <td>0.999111</td>\n",
       "      <td>0.93961</td>\n",
       "      <td>0.752819</td>\n",
       "      <td>0.820945</td>\n",
       "    </tr>\n",
       "  </tbody>\n",
       "</table>\n",
       "</div>"
      ],
      "text/plain": [
       "       Model Name  Run Time(in secs)  Test set Accuracy  Test set Precision  \\\n",
       "0        XG Boost          27.679064           0.999692             0.99291   \n",
       "1  Decision Trees          13.175850           0.999293             0.88317   \n",
       "2        Logistic           1.937794           0.999111             0.93961   \n",
       "\n",
       "   Test set Recall  Test set F1 Score  \n",
       "0         0.908037           0.946464  \n",
       "1         0.896361           0.889653  \n",
       "2         0.752819           0.820945  "
      ]
     },
     "execution_count": 10,
     "metadata": {},
     "output_type": "execute_result"
    }
   ],
   "source": [
    "df = pd.DataFrame(table) \n",
    "df = df.sort_values('Test set F1 Score' , ascending= False , ignore_index= True)\n",
    "df[['Model Name','Run Time(in secs)','Test set Accuracy','Test set Precision','Test set Recall','Test set F1 Score']]"
   ]
  },
  {
   "cell_type": "code",
   "execution_count": 11,
   "id": "8299317b",
   "metadata": {},
   "outputs": [
    {
     "data": {
      "image/png": "[encoded data removed]",
      "text/plain": [
       "<Figure size 864x432 with 1 Axes>"
      ]
     },
     "metadata": {
      "needs_background": "light"
     },
     "output_type": "display_data"
    }
   ],
   "source": [
    "f1_plot(\"Model Name\", \"Test set F1 Score\")"
   ]
  },
  {
   "cell_type": "code",
   "execution_count": 12,
   "id": "2772b2d9",
   "metadata": {},
   "outputs": [
    {
     "data": {
      "image/png": "[encoded data removed]",
      "text/plain": [
       "<Figure size 1296x360 with 6 Axes>"
      ]
     },
     "metadata": {
      "needs_background": "light"
     },
     "output_type": "display_data"
    }
   ],
   "source": [
    "confusion_matrix_plot(cf_matrix)"
   ]
  },
  {
   "cell_type": "code",
   "execution_count": 13,
   "id": "d9b8a472",
   "metadata": {},
   "outputs": [
    {
     "data": {
      "text/html": [
       "<div>\n",
       "<style scoped>\n",
       "    .dataframe tbody tr th:only-of-type {\n",
       "        vertical-align: middle;\n",
       "    }\n",
       "\n",
       "    .dataframe tbody tr th {\n",
       "        vertical-align: top;\n",
       "    }\n",
       "\n",
       "    .dataframe thead th {\n",
       "        text-align: right;\n",
       "    }\n",
       "</style>\n",
       "<table border=\"1\" class=\"dataframe\">\n",
       "  <thead>\n",
       "    <tr style=\"text-align: right;\">\n",
       "      <th></th>\n",
       "      <th>Model Name</th>\n",
       "      <th>Threshold</th>\n",
       "      <th>New Accuracy</th>\n",
       "      <th>New Precision</th>\n",
       "      <th>New Recall</th>\n",
       "      <th>New F1 Score</th>\n",
       "    </tr>\n",
       "  </thead>\n",
       "  <tbody>\n",
       "    <tr>\n",
       "      <th>0</th>\n",
       "      <td>XG Boost</td>\n",
       "      <td>0.357713</td>\n",
       "      <td>0.999710</td>\n",
       "      <td>0.993014</td>\n",
       "      <td>0.913784</td>\n",
       "      <td>0.949927</td>\n",
       "    </tr>\n",
       "    <tr>\n",
       "      <th>1</th>\n",
       "      <td>Logistic</td>\n",
       "      <td>0.056961</td>\n",
       "      <td>0.999365</td>\n",
       "      <td>0.897573</td>\n",
       "      <td>0.902135</td>\n",
       "      <td>0.899841</td>\n",
       "    </tr>\n",
       "    <tr>\n",
       "      <th>2</th>\n",
       "      <td>Decision Trees</td>\n",
       "      <td>1.000000</td>\n",
       "      <td>0.999293</td>\n",
       "      <td>0.883170</td>\n",
       "      <td>0.896361</td>\n",
       "      <td>0.889653</td>\n",
       "    </tr>\n",
       "  </tbody>\n",
       "</table>\n",
       "</div>"
      ],
      "text/plain": [
       "       Model Name  Threshold  New Accuracy  New Precision  New Recall  \\\n",
       "0        XG Boost   0.357713      0.999710       0.993014    0.913784   \n",
       "1        Logistic   0.056961      0.999365       0.897573    0.902135   \n",
       "2  Decision Trees   1.000000      0.999293       0.883170    0.896361   \n",
       "\n",
       "   New F1 Score  \n",
       "0      0.949927  \n",
       "1      0.899841  \n",
       "2      0.889653  "
      ]
     },
     "execution_count": 13,
     "metadata": {},
     "output_type": "execute_result"
    }
   ],
   "source": [
    "df = pd.DataFrame(table) \n",
    "df = df.sort_values('New F1 Score' , ascending= False , ignore_index= True)\n",
    "df[['Model Name','Threshold','New Accuracy','New Precision','New Recall','New F1 Score']]"
   ]
  },
  {
   "cell_type": "code",
   "execution_count": 14,
   "id": "8299317b",
   "metadata": {},
   "outputs": [
    {
     "data": {
      "image/png": "[encoded data removed]",
      "text/plain": [
       "<Figure size 864x432 with 1 Axes>"
      ]
     },
     "metadata": {
      "needs_background": "light"
     },
     "output_type": "display_data"
    }
   ],
   "source": [
    "f1_plot(\"Model Name\", \"New F1 Score\")"
   ]
  },
  {
   "cell_type": "code",
   "execution_count": 15,
   "id": "05903443",
   "metadata": {},
   "outputs": [
    {
     "data": {
      "image/png": "[encoded data removed]",
      "text/plain": [
       "<Figure size 1296x360 with 6 Axes>"
      ]
     },
     "metadata": {
      "needs_background": "light"
     },
     "output_type": "display_data"
    }
   ],
   "source": [
    "confusion_matrix_plot(cf_matrix_new)"
   ]
  },
  {
   "cell_type": "markdown",
   "id": "fc55548c",
   "metadata": {},
   "source": [
    "##### From the above visualisations we can conclude that XGBoost is the best model for credit card fraud detection . 'XGBoost' has the highest accuracy , precision and recall as well. "
   ]
  },
  {
   "cell_type": "code",
   "execution_count": 16,
   "id": "2e316b27",
   "metadata": {},
   "outputs": [
    {
     "data": {
      "text/html": [
       "<div>\n",
       "<style scoped>\n",
       "    .dataframe tbody tr th:only-of-type {\n",
       "        vertical-align: middle;\n",
       "    }\n",
       "\n",
       "    .dataframe tbody tr th {\n",
       "        vertical-align: top;\n",
       "    }\n",
       "\n",
       "    .dataframe thead th {\n",
       "        text-align: right;\n",
       "    }\n",
       "</style>\n",
       "<table border=\"1\" class=\"dataframe\">\n",
       "  <thead>\n",
       "    <tr style=\"text-align: right;\">\n",
       "      <th></th>\n",
       "      <th>Model Name</th>\n",
       "      <th>Test set F1 Score</th>\n",
       "      <th>New F1 Score</th>\n",
       "    </tr>\n",
       "  </thead>\n",
       "  <tbody>\n",
       "    <tr>\n",
       "      <th>0</th>\n",
       "      <td>XG Boost</td>\n",
       "      <td>0.946464</td>\n",
       "      <td>0.949927</td>\n",
       "    </tr>\n",
       "    <tr>\n",
       "      <th>1</th>\n",
       "      <td>Logistic</td>\n",
       "      <td>0.820945</td>\n",
       "      <td>0.899841</td>\n",
       "    </tr>\n",
       "    <tr>\n",
       "      <th>2</th>\n",
       "      <td>Decision Trees</td>\n",
       "      <td>0.889653</td>\n",
       "      <td>0.889653</td>\n",
       "    </tr>\n",
       "  </tbody>\n",
       "</table>\n",
       "</div>"
      ],
      "text/plain": [
       "       Model Name  Test set F1 Score  New F1 Score\n",
       "0        XG Boost           0.946464      0.949927\n",
       "1        Logistic           0.820945      0.899841\n",
       "2  Decision Trees           0.889653      0.889653"
      ]
     },
     "execution_count": 16,
     "metadata": {},
     "output_type": "execute_result"
    }
   ],
   "source": [
    "# Impact of changing the thresholds.\n",
    "df[['Model Name','Test set F1 Score','New F1 Score']]"
   ]
  },
  {
   "cell_type": "code",
   "execution_count": 18,
   "id": "0f15f3d7",
   "metadata": {},
   "outputs": [
    {
     "data": {
      "text/plain": [
       "<matplotlib.legend.Legend at 0x19030fb2e90>"
      ]
     },
     "execution_count": 18,
     "metadata": {},
     "output_type": "execute_result"
    },
    {
     "data": {
      "image/png": "[encoded data removed]",
      "text/plain": [
       "<Figure size 432x288 with 1 Axes>"
      ]
     },
     "metadata": {
      "needs_background": "light"
     },
     "output_type": "display_data"
    }
   ],
   "source": [
    "df[['Model Name','Test set F1 Score','New F1 Score']].plot(kind='bar')\n",
    "\n",
    "plt.xticks(range(3),list(df['Model Name']),rotation= 60)\n",
    "plt.title('F1 Score Comparision')\n",
    "plt.xlabel('Model Name') \n",
    "plt.ylabel('F1 Score')\n",
    "plt.legend(loc=(1.04,.85))"
   ]
  }
 ],
 "metadata": {
  "kernelspec": {
   "display_name": "Python 3.10.4 64-bit",
   "language": "python",
   "name": "python3"
  },
  "language_info": {
   "codemirror_mode": {
    "name": "ipython",
    "version": 3
   },
   "file_extension": ".py",
   "mimetype": "text/x-python",
   "name": "python",
   "nbconvert_exporter": "python",
   "pygments_lexer": "ipython3",
   "version": "3.10.4"
  },
  "orig_nbformat": 4,
  "vscode": {
   "interpreter": {
    "hash": "52634da84371cba311ea128a5ea7cdc41ff074b781779e754b270ff9f8153cee"
   }
  }
 },
 "nbformat": 4,
 "nbformat_minor": 2
}
